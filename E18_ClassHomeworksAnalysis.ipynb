{
  "nbformat": 4,
  "nbformat_minor": 0,
  "metadata": {
    "colab": {
      "name": "E18-ClassHomeworksAnalysis.ipynb",
      "version": "0.3.2",
      "provenance": [],
      "collapsed_sections": [],
      "toc_visible": true
    },
    "language_info": {
      "codemirror_mode": {
        "name": "ipython",
        "version": 3
      },
      "file_extension": ".py",
      "mimetype": "text/x-python",
      "name": "python",
      "nbconvert_exporter": "python",
      "pygments_lexer": "ipython3",
      "version": "3.5.5"
    },
    "kernelspec": {
      "display_name": "Python 3",
      "language": "python",
      "name": "python3"
    }
  },
  "cells": [
    {
      "metadata": {
        "id": "jJlh3tV2jNAA",
        "colab_type": "text"
      },
      "cell_type": "markdown",
      "source": [
        "# Exercise 18\n",
        "\n",
        "## Analyze class homeworks\n"
      ]
    },
    {
      "metadata": {
        "id": "kp_VsbntjNAH",
        "colab_type": "code",
        "colab": {
          "base_uri": "https://localhost:8080/",
          "height": 51
        },
        "outputId": "5f07418d-2801-408f-e2c3-25585a7d572d"
      },
      "cell_type": "code",
      "source": [
        "import pandas as pd\n",
        "import numpy as np\n",
        "from scipy.sparse import hstack\n",
        "\n",
        "from sklearn.model_selection import train_test_split, cross_val_score\n",
        "from sklearn.feature_extraction.text import CountVectorizer, TfidfVectorizer\n",
        "\n",
        "from sklearn.ensemble import RandomForestClassifier\n",
        "from sklearn import metrics\n",
        "\n",
        "%matplotlib inline\n",
        "import matplotlib.pyplot as plt\n",
        "\n",
        "import nltk\n",
        "nltk.download('stopwords')\n",
        "from nltk.corpus import stopwords\n",
        "import string\n",
        "\n"
      ],
      "execution_count": 1,
      "outputs": [
        {
          "output_type": "stream",
          "text": [
            "[nltk_data] Downloading package stopwords to /root/nltk_data...\n",
            "[nltk_data]   Unzipping corpora/stopwords.zip.\n"
          ],
          "name": "stdout"
        }
      ]
    },
    {
      "metadata": {
        "id": "-NFp_AsUhXW4",
        "colab_type": "code",
        "colab": {
          "base_uri": "https://localhost:8080/",
          "height": 278
        },
        "outputId": "863ba4c5-13c6-4e6e-aac5-fc393c497949"
      },
      "cell_type": "code",
      "source": [
        "data = pd.read_excel('E18.xlsx')\n",
        "print('data shape: ',data.shape)\n",
        "data.head(3)"
      ],
      "execution_count": 2,
      "outputs": [
        {
          "output_type": "stream",
          "text": [
            "data shape:  (42, 7)\n"
          ],
          "name": "stdout"
        },
        {
          "output_type": "execute_result",
          "data": {
            "text/html": [
              "<div>\n",
              "<style scoped>\n",
              "    .dataframe tbody tr th:only-of-type {\n",
              "        vertical-align: middle;\n",
              "    }\n",
              "\n",
              "    .dataframe tbody tr th {\n",
              "        vertical-align: top;\n",
              "    }\n",
              "\n",
              "    .dataframe thead th {\n",
              "        text-align: right;\n",
              "    }\n",
              "</style>\n",
              "<table border=\"1\" class=\"dataframe\">\n",
              "  <thead>\n",
              "    <tr style=\"text-align: right;\">\n",
              "      <th></th>\n",
              "      <th>Sexo</th>\n",
              "      <th>T1</th>\n",
              "      <th>T2</th>\n",
              "      <th>T3</th>\n",
              "      <th>T4</th>\n",
              "      <th>T5</th>\n",
              "      <th>T6</th>\n",
              "    </tr>\n",
              "  </thead>\n",
              "  <tbody>\n",
              "    <tr>\n",
              "      <th>0</th>\n",
              "      <td>H</td>\n",
              "      <td>Un científico de datos y un ingeniero de datos...</td>\n",
              "      <td>NaN</td>\n",
              "      <td>Los árboles de decisión es uno de los algoritm...</td>\n",
              "      <td>NaN</td>\n",
              "      <td>En el documento \"Do We Need Hundreds of Classi...</td>\n",
              "      <td>Boosting builds models from individual so call...</td>\n",
              "    </tr>\n",
              "    <tr>\n",
              "      <th>1</th>\n",
              "      <td>H</td>\n",
              "      <td>Aunque los dos perfiles cuentan con habilidade...</td>\n",
              "      <td>Aunque el conceso no es total en el tema de ma...</td>\n",
              "      <td>NaN</td>\n",
              "      <td>En Machine Learing el propósito de los métodos...</td>\n",
              "      <td>El paper publicado en 2014 hace una evaluación...</td>\n",
              "      <td>Gradient Boosting ClassifierGradient Boosting ...</td>\n",
              "    </tr>\n",
              "    <tr>\n",
              "      <th>2</th>\n",
              "      <td>H</td>\n",
              "      <td>Python vs Stata. Analizar información es un pr...</td>\n",
              "      <td>En el marco del Machine Learning encontramos c...</td>\n",
              "      <td>Árbol de clasificación Como su nombre lo indic...</td>\n",
              "      <td>Este es un mecanismo que utiliza varios algori...</td>\n",
              "      <td>El paper analiza 179 clasificadores de 17 dife...</td>\n",
              "      <td>Gradient Boosting Classifier busca aprender de...</td>\n",
              "    </tr>\n",
              "  </tbody>\n",
              "</table>\n",
              "</div>"
            ],
            "text/plain": [
              "  Sexo                                                 T1  \\\n",
              "0    H  Un científico de datos y un ingeniero de datos...   \n",
              "1    H  Aunque los dos perfiles cuentan con habilidade...   \n",
              "2    H  Python vs Stata. Analizar información es un pr...   \n",
              "\n",
              "                                                  T2  \\\n",
              "0                                                NaN   \n",
              "1  Aunque el conceso no es total en el tema de ma...   \n",
              "2  En el marco del Machine Learning encontramos c...   \n",
              "\n",
              "                                                  T3  \\\n",
              "0  Los árboles de decisión es uno de los algoritm...   \n",
              "1                                                NaN   \n",
              "2  Árbol de clasificación Como su nombre lo indic...   \n",
              "\n",
              "                                                  T4  \\\n",
              "0                                                NaN   \n",
              "1  En Machine Learing el propósito de los métodos...   \n",
              "2  Este es un mecanismo que utiliza varios algori...   \n",
              "\n",
              "                                                  T5  \\\n",
              "0  En el documento \"Do We Need Hundreds of Classi...   \n",
              "1  El paper publicado en 2014 hace una evaluación...   \n",
              "2  El paper analiza 179 clasificadores de 17 dife...   \n",
              "\n",
              "                                                  T6  \n",
              "0  Boosting builds models from individual so call...  \n",
              "1  Gradient Boosting ClassifierGradient Boosting ...  \n",
              "2  Gradient Boosting Classifier busca aprender de...  "
            ]
          },
          "metadata": {
            "tags": []
          },
          "execution_count": 2
        }
      ]
    },
    {
      "metadata": {
        "id": "ER_WbZFbPaGY",
        "colab_type": "code",
        "colab": {
          "base_uri": "https://localhost:8080/",
          "height": 312
        },
        "outputId": "767dcac1-b0d0-479e-e6b3-90e0e83efe2d"
      },
      "cell_type": "code",
      "source": [
        "# unir textos de cada estudiante\n",
        "data= data.fillna(\" \")\n",
        "data['All'] = data['T1']+' '+data['T2']+' '+data['T3']+' '+data['T4']+' '+data['T5']+' '+data['T6']\n",
        "data.head(3)"
      ],
      "execution_count": 3,
      "outputs": [
        {
          "output_type": "execute_result",
          "data": {
            "text/html": [
              "<div>\n",
              "<style scoped>\n",
              "    .dataframe tbody tr th:only-of-type {\n",
              "        vertical-align: middle;\n",
              "    }\n",
              "\n",
              "    .dataframe tbody tr th {\n",
              "        vertical-align: top;\n",
              "    }\n",
              "\n",
              "    .dataframe thead th {\n",
              "        text-align: right;\n",
              "    }\n",
              "</style>\n",
              "<table border=\"1\" class=\"dataframe\">\n",
              "  <thead>\n",
              "    <tr style=\"text-align: right;\">\n",
              "      <th></th>\n",
              "      <th>Sexo</th>\n",
              "      <th>T1</th>\n",
              "      <th>T2</th>\n",
              "      <th>T3</th>\n",
              "      <th>T4</th>\n",
              "      <th>T5</th>\n",
              "      <th>T6</th>\n",
              "      <th>All</th>\n",
              "    </tr>\n",
              "  </thead>\n",
              "  <tbody>\n",
              "    <tr>\n",
              "      <th>0</th>\n",
              "      <td>H</td>\n",
              "      <td>Un científico de datos y un ingeniero de datos...</td>\n",
              "      <td></td>\n",
              "      <td>Los árboles de decisión es uno de los algoritm...</td>\n",
              "      <td></td>\n",
              "      <td>En el documento \"Do We Need Hundreds of Classi...</td>\n",
              "      <td>Boosting builds models from individual so call...</td>\n",
              "      <td>Un científico de datos y un ingeniero de datos...</td>\n",
              "    </tr>\n",
              "    <tr>\n",
              "      <th>1</th>\n",
              "      <td>H</td>\n",
              "      <td>Aunque los dos perfiles cuentan con habilidade...</td>\n",
              "      <td>Aunque el conceso no es total en el tema de ma...</td>\n",
              "      <td></td>\n",
              "      <td>En Machine Learing el propósito de los métodos...</td>\n",
              "      <td>El paper publicado en 2014 hace una evaluación...</td>\n",
              "      <td>Gradient Boosting ClassifierGradient Boosting ...</td>\n",
              "      <td>Aunque los dos perfiles cuentan con habilidade...</td>\n",
              "    </tr>\n",
              "    <tr>\n",
              "      <th>2</th>\n",
              "      <td>H</td>\n",
              "      <td>Python vs Stata. Analizar información es un pr...</td>\n",
              "      <td>En el marco del Machine Learning encontramos c...</td>\n",
              "      <td>Árbol de clasificación Como su nombre lo indic...</td>\n",
              "      <td>Este es un mecanismo que utiliza varios algori...</td>\n",
              "      <td>El paper analiza 179 clasificadores de 17 dife...</td>\n",
              "      <td>Gradient Boosting Classifier busca aprender de...</td>\n",
              "      <td>Python vs Stata. Analizar información es un pr...</td>\n",
              "    </tr>\n",
              "  </tbody>\n",
              "</table>\n",
              "</div>"
            ],
            "text/plain": [
              "  Sexo                                                 T1  \\\n",
              "0    H  Un científico de datos y un ingeniero de datos...   \n",
              "1    H  Aunque los dos perfiles cuentan con habilidade...   \n",
              "2    H  Python vs Stata. Analizar información es un pr...   \n",
              "\n",
              "                                                  T2  \\\n",
              "0                                                      \n",
              "1  Aunque el conceso no es total en el tema de ma...   \n",
              "2  En el marco del Machine Learning encontramos c...   \n",
              "\n",
              "                                                  T3  \\\n",
              "0  Los árboles de decisión es uno de los algoritm...   \n",
              "1                                                      \n",
              "2  Árbol de clasificación Como su nombre lo indic...   \n",
              "\n",
              "                                                  T4  \\\n",
              "0                                                      \n",
              "1  En Machine Learing el propósito de los métodos...   \n",
              "2  Este es un mecanismo que utiliza varios algori...   \n",
              "\n",
              "                                                  T5  \\\n",
              "0  En el documento \"Do We Need Hundreds of Classi...   \n",
              "1  El paper publicado en 2014 hace una evaluación...   \n",
              "2  El paper analiza 179 clasificadores de 17 dife...   \n",
              "\n",
              "                                                  T6  \\\n",
              "0  Boosting builds models from individual so call...   \n",
              "1  Gradient Boosting ClassifierGradient Boosting ...   \n",
              "2  Gradient Boosting Classifier busca aprender de...   \n",
              "\n",
              "                                                 All  \n",
              "0  Un científico de datos y un ingeniero de datos...  \n",
              "1  Aunque los dos perfiles cuentan con habilidade...  \n",
              "2  Python vs Stata. Analizar información es un pr...  "
            ]
          },
          "metadata": {
            "tags": []
          },
          "execution_count": 3
        }
      ]
    },
    {
      "metadata": {
        "id": "YPE1fbTePfOW",
        "colab_type": "code",
        "colab": {
          "base_uri": "https://localhost:8080/",
          "height": 74
        },
        "outputId": "93d38429-c859-424a-f34f-587a83b626f8"
      },
      "cell_type": "code",
      "source": [
        "data.loc[3,'All']"
      ],
      "execution_count": 4,
      "outputs": [
        {
          "output_type": "execute_result",
          "data": {
            "text/plain": [
              "'Los algoritmos de machine learning buscan predecir un resultado y/o encontrar patrones en conjuntos de datos. Se denomina Clasificación Supervisada a los algoritmos que buscan predecir eventos discretos futuros a partir de datos conocidos, uno de los principales obstáculos para algoritmos supervisados radica en que la información debe estar marcada, categorizada o etiquetada, esto significa que en la práctica se debe tener una variable de respuesta observada. Tener los datos marcados puede llegar a generar cargas operativas muy altas, además, el proceso de clasificación es propenso a errores humanos y por ende disminuye la calidad y usabilidad de la información. Otra limitación está atada a la obtención de la información, estos modelos requieren grandes cantidades de datos para poder enfrentar la etapa de entrenamiento y así desarrollar un modelo robusto, aunque depende del problema y la aplicación la obtención de datos llega a ser una limitación. El desarrollo observado en este campo en los últimos años ha dejado en evidencia que no hay suficientes profesionales capacitados y entrenados para enfrentar estos algoritmos, hace falta un par de años para alcanzar un número adecuado de personas con las habilidades necesarias para diseñar e implementar modelos de Machine Learning, en este momento las universidades y academias se han percatado del problema y están cambiando sus currículos y profundizaciones para no quedarse atrás en el mercado. Naturalmente existen expertos y profesionales de Machine Learning pero no son tantos como los que la industria necesita. Por último, mencionamos tal vez una de las dificultades más importantes para el pleno desarrollo de estos algoritmos y es la dificultad de explicar cómo estos modelos llegan a los resultados, para muchos gerentes aceptar estas teorías es aumentar la exposición al riesgo. Los algoritmos de machine learning buscan predecir un resultado y/o encontrar patrones en conjuntos de datos, para lograr este objetivo se han definido métodos de aprendizaje, a continuación se mencionan algunos: 1.\\xa0\\xa0\\xa0\\xa0 Clasificación supervisada: Busca obtener un modelo robusto para la predicción de eventos futuros a partir casos  conocidos, es decir, dentro del conjunto de datos se debe evidenciar la variable de respuesta. Por ejemplo, si queremos conocer la probabilidad de que una solicitud de crédito en un banco sea un fraude, debemos tener un conjunto de datos con casos conocidos de fraude. Los modelos predictivos de variables discretas se les denomina de clasificación y los modelos predictivos de variables continuas se les denomina de regresión. 2.\\xa0\\xa0\\xa0\\xa0 Clasificación NO supervisada: Cuando no se cuenta con los datos marcados, es decir, tenemos datos sin variable de respuesta observada, se deben aplicar algoritmos que buscan la validación de un modelo clasificatorio a partir de la similitud de sus características. Dentro de estos algoritmos encontramos dos tipos de clasificación no supervisada, Jerárquicos (construcción de nodos) y particionales (optimizan una función objetivo). 3.\\xa0\\xa0\\xa0\\xa0 Aprendizaje Reforzado Son algoritmos que buscan capacitar sistemas con dos características, prueba y error (proceso iterativo) y entorno (proporciona información al sistema sobre el resultado de la tarea aplicada). En conclusión, frente a cualquier situación el algoritmo debe decidir por la opción más adecuada de acuerdo al objetivo de la tarea. 4.\\xa0\\xa0\\xa0\\xa0 Semisupervisado Mezcla las dos técnicas (supervisado y no supervisado) es decir usa datos que tienen la variable de respuesta y los que no, se usa cuando el costo de completar el set de datos marcado es muy costoso o difícil de conseguir.  Los arboles de decisión pertenecen a los algoritmos de clasificación supervisada, técnica comúnmente utilizada por la facilidad que resulta de leer gráficamente el resultado del modelo. Estos modelos están formados por nodos de decisión y nodos de respuesta, de los nodos de decisión se desprenden 2 o más ramas, estas ramas toman posibles valores de acuerdo a los atributos o características de las observaciones. Por otro lado los nodos de respuesta devuelven la decisión de la pregunta que intenta predecir el modelo. Si bien los arboles de decisión siguen un patrón de clasificación, existen diferentes tipos de algoritmos, por ejemplo: ID3. Este algoritmo busca encontrar la raíz principal del árbol a través de pruebas de hipótesis para determinar si dicha raíz clasifica las observaciones de la mejor manera posible, para esto hace uso del concepto “Ganancia de Información” y así seleccionar la característica más adecuada en cada nodo, para medir el concepto de Ganancia de Información se usan dos medias, la entropía y la efectividad. La entropía mide el grado de incertidumbre de una muestra, puede llegar a ser una muestra homogénea (entropía 0) o una muestra igualmente distribuida (entropía 1). La efectividad es una comparación del valor esperado de la entropía antes y después de la clasificación. Detrás de estos conceptos hay toda una teoría matemática demostrada, lo importante es saber que la elección del nodo de decisión va soportada por la ganancia de información y siempre buscaremos aquel nodo que nos proporcione más GI. C4.5 Debido a que la GI tiende a favorecer a los atributos con más cantidad de observaciones el algoritmo C4.5 busca mejorar el rendimiento de la selección de nodos y el sobreajuste a través de una nueva medida, la tasa de ganancia, a diferencia del anterior algoritmo, el nodo seleccionado es aquel que tenga mayor tasa de ganancia de información. La tasa de ganancia es la estandarización para eliminar el efecto de cantidad de observaciones posibles agrupadas en un atributo. Consideremos el siguiente ejemplo: Una persona necesita adquirir un nuevo teléfono celular,antes de adquirir el producto hace una pequeña investigación. Esta investigación lleva a esta persona a leer opiniones en línea,a preguntarle a familiares, amigos, compañeros. Luego de tener varias opiniones lo más probable es que el comprador se decidapor el teléfono que en todas las fuentes de información tuvo las mejores críticas. Es decir, nuestro comprador no se quedó con una solaopinión, por el contrario decidió combinar todas las fuentes de información y emitir un juicio, de esta misma manera funcionan los“Ensemble Methods”, estas técnicas combinan las decisiones hechas por varios modelos con el fin de mejorar el desempeño general de lapredicción. Esto sucede debido a que se pueden ajustar diferentes parámetros en los diferentes tipos de modelos (Arboles de Decisión,Regresiones, Redes, entre otros) esto nos lleva a obtener grandes cantidades de modelos respuesta y cada uno de estos modelos puede estaridentificando características que los otros no hacen. Es por esto que esta técnica se vuelve útil, porque no es necesario tomar decisionescon base en un solo árbol, modelo de regresión, etc. y confiar que los parámetros escogidos fueron los mejores, por el contrario,esta técnica ofrece la capacidad de unir todos los modelos que se deseen incluir. Adicional a esta gran ventaja, este método permitedisminuir la variación entre los diferentes resultados. ¿Se necesitan cientos de modelos para resolver problemas de clasificación de la vida real?Las áreas que se dedican a la búsqueda de ventajas competitivas a través del procesamiento de datos tienen cierta tendencia al sesgodependiendo del tema a evaluar y sus evaluadores, esto es debido a la experiencia de cada investigador. Generalmente un experto aplicaralo que mejor conoce, lo que cree que funciona mejor, aplicar modelos diferentes o más comunes en otras áreas de investigación será máscomplejo para el equipo. Esta tendencia puede generar un problema en los modelos desarrollados ya que no se hace uso de todos los modelos,herramientas desarrolladas. Ahora bien, comparar un gran número de modelos y parámetros puede llegar a magnificar y aumentar tiempos derespuesta, en este sentido, el artículo responde a este interrogante haciendo un análisis con un gran número de clasificadoresprovenientes de diferentes familias y áreas de conocimiento y con una gran colección de conjuntos de datos. El objetivo es encontrar elclasificador que probablemente alcance el mejor rendimiento para cualquier data set. El autor persigue obtener esta respuesta a travésdel análisis de un conjunto de datasets asegurando:1. Seleccionar el mejor lasificador global para los data sets elegidos2. Rankiar cada clasificador con el accuracy.3. Determinar para cada clasificador, la probabilidad de alcanzar el mejor accuracy y presentar la diferencia respecto al que alcanceel mejor accuracy.4. Evaluar el comportamiento del clasificador variando propiedades de los data sets.Además validan el experimento así:-Solucionan el problema de muestreo (un clasificador puede funcionar mejor para un conjunto de datos) tomando todos los data sets de la UCI.-No desarrollan nuevos parámetros, simplemente toman lo que está definido en el momento.-Data set complexity (para el autor esta medido por la máxima precisión alcanzable) es desconocida, no se sabe si el errores por un mal ajuste del clasificador (learner’s limitation) o por la data en si (data limitation), como suponen que el máximoaccuracy alcanzable es el que alguno de los modelos obtenga, entonces los modelos que tengan bajos accuracy estarán relacionadoscon learnes’s limitation, porque de alguna manera otro conjunto de clasificadores logro ajustar las datos.Después de este experimento, el autor logra demostrar que Random Forest tiene una probabilidad del 0.94 de alcanzar el mejor accuracy.  '"
            ]
          },
          "metadata": {
            "tags": []
          },
          "execution_count": 4
        }
      ]
    },
    {
      "metadata": {
        "id": "LOjHEeBwjNAr",
        "colab_type": "text"
      },
      "cell_type": "markdown",
      "source": [
        "## Exercise 18.1\n",
        "\n",
        "Analyze the writing patterns of each student\n",
        "- Ej: Las palabras que mas usa, cuantas palabras usa en promedio, las palabras mas importantes etc.. (usar tfidf)\n",
        "- Eneagramas, frecuencias de palabras, frecuencias de eneagramas, \n",
        "- que stopwords usaron"
      ]
    },
    {
      "metadata": {
        "id": "q0Wt2SV6SRAh",
        "colab_type": "code",
        "colab": {
          "base_uri": "https://localhost:8080/",
          "height": 437
        },
        "outputId": "4ad222ec-9189-41b5-8901-60630e6fdf73"
      },
      "cell_type": "code",
      "source": [
        "# Cantidad de palabras por tarea por estudiante\n",
        "for i in range(6):\n",
        "  data['wordsT'+str(i+1)] = data['T'+str(i+1)].apply(lambda x: len(str(x).split()))\n",
        "\n",
        "#Cantidad Total de palabras:\n",
        "\n",
        "data['wordsTotal']= data['wordsT1']+data['wordsT2']+data['wordsT3']+data['wordsT4']+data['wordsT5']+data['wordsT6']\n",
        "  \n",
        "  \n",
        "# Promedio de palabras del estudiante\n",
        "\n",
        "for est in data.index:\n",
        "  cont=0\n",
        "  suma=0\n",
        "  for i in [1,2,3,4,5,6]:\n",
        "    if data.loc[est,'wordsT'+str(i)]!=0:\n",
        "      cont=cont+1\n",
        "    suma=suma+data.loc[est,'wordsT'+str(i)]\n",
        "  \n",
        "    data.loc[est,'words_mean']=suma/cont\n",
        "  \n",
        "# Cantidad de stopwords que usa cada estudiante\n",
        "stop = stopwords.words('spanish') \n",
        "data['stopwords'] = data['All'].apply(lambda x: len([x for x in x.split() if x in stop]))\n",
        "\n",
        "#Porcentaje de stopwords sobre el total de palabras\n",
        "data['perc_stopwords']=data['stopwords']/data['wordsTotal']\n",
        "\n",
        "  \n",
        "data.head(3)"
      ],
      "execution_count": 5,
      "outputs": [
        {
          "output_type": "stream",
          "text": [
            "/usr/local/lib/python3.6/dist-packages/ipykernel_launcher.py:19: RuntimeWarning: invalid value encountered in long_scalars\n"
          ],
          "name": "stderr"
        },
        {
          "output_type": "execute_result",
          "data": {
            "text/html": [
              "<div>\n",
              "<style scoped>\n",
              "    .dataframe tbody tr th:only-of-type {\n",
              "        vertical-align: middle;\n",
              "    }\n",
              "\n",
              "    .dataframe tbody tr th {\n",
              "        vertical-align: top;\n",
              "    }\n",
              "\n",
              "    .dataframe thead th {\n",
              "        text-align: right;\n",
              "    }\n",
              "</style>\n",
              "<table border=\"1\" class=\"dataframe\">\n",
              "  <thead>\n",
              "    <tr style=\"text-align: right;\">\n",
              "      <th></th>\n",
              "      <th>Sexo</th>\n",
              "      <th>T1</th>\n",
              "      <th>T2</th>\n",
              "      <th>T3</th>\n",
              "      <th>T4</th>\n",
              "      <th>T5</th>\n",
              "      <th>T6</th>\n",
              "      <th>All</th>\n",
              "      <th>wordsT1</th>\n",
              "      <th>wordsT2</th>\n",
              "      <th>wordsT3</th>\n",
              "      <th>wordsT4</th>\n",
              "      <th>wordsT5</th>\n",
              "      <th>wordsT6</th>\n",
              "      <th>wordsTotal</th>\n",
              "      <th>words_mean</th>\n",
              "      <th>stopwords</th>\n",
              "      <th>perc_stopwords</th>\n",
              "    </tr>\n",
              "  </thead>\n",
              "  <tbody>\n",
              "    <tr>\n",
              "      <th>0</th>\n",
              "      <td>H</td>\n",
              "      <td>Un científico de datos y un ingeniero de datos...</td>\n",
              "      <td></td>\n",
              "      <td>Los árboles de decisión es uno de los algoritm...</td>\n",
              "      <td></td>\n",
              "      <td>En el documento \"Do We Need Hundreds of Classi...</td>\n",
              "      <td>Boosting builds models from individual so call...</td>\n",
              "      <td>Un científico de datos y un ingeniero de datos...</td>\n",
              "      <td>354</td>\n",
              "      <td>0</td>\n",
              "      <td>602</td>\n",
              "      <td>0</td>\n",
              "      <td>518</td>\n",
              "      <td>371</td>\n",
              "      <td>1845</td>\n",
              "      <td>461.250000</td>\n",
              "      <td>629</td>\n",
              "      <td>0.340921</td>\n",
              "    </tr>\n",
              "    <tr>\n",
              "      <th>1</th>\n",
              "      <td>H</td>\n",
              "      <td>Aunque los dos perfiles cuentan con habilidade...</td>\n",
              "      <td>Aunque el conceso no es total en el tema de ma...</td>\n",
              "      <td></td>\n",
              "      <td>En Machine Learing el propósito de los métodos...</td>\n",
              "      <td>El paper publicado en 2014 hace una evaluación...</td>\n",
              "      <td>Gradient Boosting ClassifierGradient Boosting ...</td>\n",
              "      <td>Aunque los dos perfiles cuentan con habilidade...</td>\n",
              "      <td>226</td>\n",
              "      <td>273</td>\n",
              "      <td>0</td>\n",
              "      <td>283</td>\n",
              "      <td>262</td>\n",
              "      <td>276</td>\n",
              "      <td>1320</td>\n",
              "      <td>264.000000</td>\n",
              "      <td>549</td>\n",
              "      <td>0.415909</td>\n",
              "    </tr>\n",
              "    <tr>\n",
              "      <th>2</th>\n",
              "      <td>H</td>\n",
              "      <td>Python vs Stata. Analizar información es un pr...</td>\n",
              "      <td>En el marco del Machine Learning encontramos c...</td>\n",
              "      <td>Árbol de clasificación Como su nombre lo indic...</td>\n",
              "      <td>Este es un mecanismo que utiliza varios algori...</td>\n",
              "      <td>El paper analiza 179 clasificadores de 17 dife...</td>\n",
              "      <td>Gradient Boosting Classifier busca aprender de...</td>\n",
              "      <td>Python vs Stata. Analizar información es un pr...</td>\n",
              "      <td>340</td>\n",
              "      <td>300</td>\n",
              "      <td>304</td>\n",
              "      <td>299</td>\n",
              "      <td>235</td>\n",
              "      <td>294</td>\n",
              "      <td>1772</td>\n",
              "      <td>295.333333</td>\n",
              "      <td>821</td>\n",
              "      <td>0.463318</td>\n",
              "    </tr>\n",
              "  </tbody>\n",
              "</table>\n",
              "</div>"
            ],
            "text/plain": [
              "  Sexo                                                 T1  \\\n",
              "0    H  Un científico de datos y un ingeniero de datos...   \n",
              "1    H  Aunque los dos perfiles cuentan con habilidade...   \n",
              "2    H  Python vs Stata. Analizar información es un pr...   \n",
              "\n",
              "                                                  T2  \\\n",
              "0                                                      \n",
              "1  Aunque el conceso no es total en el tema de ma...   \n",
              "2  En el marco del Machine Learning encontramos c...   \n",
              "\n",
              "                                                  T3  \\\n",
              "0  Los árboles de decisión es uno de los algoritm...   \n",
              "1                                                      \n",
              "2  Árbol de clasificación Como su nombre lo indic...   \n",
              "\n",
              "                                                  T4  \\\n",
              "0                                                      \n",
              "1  En Machine Learing el propósito de los métodos...   \n",
              "2  Este es un mecanismo que utiliza varios algori...   \n",
              "\n",
              "                                                  T5  \\\n",
              "0  En el documento \"Do We Need Hundreds of Classi...   \n",
              "1  El paper publicado en 2014 hace una evaluación...   \n",
              "2  El paper analiza 179 clasificadores de 17 dife...   \n",
              "\n",
              "                                                  T6  \\\n",
              "0  Boosting builds models from individual so call...   \n",
              "1  Gradient Boosting ClassifierGradient Boosting ...   \n",
              "2  Gradient Boosting Classifier busca aprender de...   \n",
              "\n",
              "                                                 All  wordsT1  wordsT2  \\\n",
              "0  Un científico de datos y un ingeniero de datos...      354        0   \n",
              "1  Aunque los dos perfiles cuentan con habilidade...      226      273   \n",
              "2  Python vs Stata. Analizar información es un pr...      340      300   \n",
              "\n",
              "   wordsT3  wordsT4  wordsT5  wordsT6  wordsTotal  words_mean  stopwords  \\\n",
              "0      602        0      518      371        1845  461.250000        629   \n",
              "1        0      283      262      276        1320  264.000000        549   \n",
              "2      304      299      235      294        1772  295.333333        821   \n",
              "\n",
              "   perc_stopwords  \n",
              "0        0.340921  \n",
              "1        0.415909  \n",
              "2        0.463318  "
            ]
          },
          "metadata": {
            "tags": []
          },
          "execution_count": 5
        }
      ]
    },
    {
      "metadata": {
        "id": "iuQ9fzn1eXYK",
        "colab_type": "code",
        "colab": {
          "base_uri": "https://localhost:8080/",
          "height": 434
        },
        "outputId": "2587a0a6-7642-4ef4-bed7-46ecae483743"
      },
      "cell_type": "code",
      "source": [
        "fig, axs = plt.subplots(1, 2, figsize=(15, 6))\n",
        "\n",
        "axs[0].bar(x=data.index , height=data['wordsT1'].to_numpy(),label='T1')\n",
        "axs[0].bar(x=data.index , height=data['wordsT2'].to_numpy(), bottom=data['wordsT1'].to_numpy(),label='T2')\n",
        "axs[0].bar(x=data.index , height=data['wordsT3'].to_numpy(), bottom=data['wordsT2'].to_numpy(),label='T3')\n",
        "axs[0].bar(x=data.index , height=data['wordsT4'].to_numpy(), bottom=data['wordsT3'].to_numpy(),label='T4')\n",
        "axs[0].bar(x=data.index , height=data['wordsT5'].to_numpy(), bottom=data['wordsT4'].to_numpy(),label='T5')\n",
        "axs[0].bar(x=data.index , height=data['wordsT6'].to_numpy(), bottom=data['wordsT5'].to_numpy(),label='T6')\n",
        "lim = np.linspace(1000,1000, 42)\n",
        "axs[0].plot(data.index,lim, label='Limite')\n",
        "axs[0].legend()\n",
        "axs[0].set_title(\"Words by assignment\")\n",
        "\n",
        "lim = np.linspace(300,300, 42)\n",
        "lim2 = np.linspace(400,400, 42)\n",
        "axs[1].plot(data.index,lim, label='Limite', color='orange')\n",
        "axs[1].plot(data.index,lim2, color='orange')\n",
        "axs[1].bar(x=data.index , height=data['words_mean'].to_numpy())\n",
        "axs[1].set_title('word count mean')\n",
        "axs[1].legend()\n",
        "\n",
        "fig.suptitle('Categorical Plotting')"
      ],
      "execution_count": 6,
      "outputs": [
        {
          "output_type": "execute_result",
          "data": {
            "text/plain": [
              "Text(0.5, 0.98, 'Categorical Plotting')"
            ]
          },
          "metadata": {
            "tags": []
          },
          "execution_count": 6
        },
        {
          "output_type": "display_data",
          "data": {
            "image/png": "[encoded data removed]",
            "text/plain": [
              "<Figure size 1080x432 with 2 Axes>"
            ]
          },
          "metadata": {
            "tags": []
          }
        }
      ]
    },
    {
      "metadata": {
        "id": "rtKJC-JXiwap",
        "colab_type": "text"
      },
      "cell_type": "markdown",
      "source": [
        "- La mayoria de estudiantes escriben en promedio 300 palabras.\n",
        "- 9 estudiantes escribe en promedio menos de 300 palabras.\n",
        "- 5 estudiantes escriben en promedio mas de 400 palabras"
      ]
    },
    {
      "metadata": {
        "id": "bAYrQLpvh6Da",
        "colab_type": "code",
        "colab": {
          "base_uri": "https://localhost:8080/",
          "height": 269
        },
        "outputId": "e2855080-922d-43dd-b043-ccba254c6ddf"
      },
      "cell_type": "code",
      "source": [
        "plt.bar(x=data.index ,height=data['perc_stopwords'].to_numpy())\n",
        "plt.show()"
      ],
      "execution_count": 7,
      "outputs": [
        {
          "output_type": "display_data",
          "data": {
            "image/png": "[encoded data removed]",
            "text/plain": [
              "<Figure size 432x288 with 1 Axes>"
            ]
          },
          "metadata": {
            "tags": []
          }
        }
      ]
    },
    {
      "metadata": {
        "id": "DYre2VyeiYdG",
        "colab_type": "text"
      },
      "cell_type": "markdown",
      "source": [
        "- Dos estudiantes usan alrededor de 0.1% de stopwords.\n",
        "- 4 estudiantes usan alrededor de 0.35% de stopwords.\n",
        "- El resto usan más de 0.4% de stopwords."
      ]
    },
    {
      "metadata": {
        "id": "J1W38u6QjNBg",
        "colab_type": "text"
      },
      "cell_type": "markdown",
      "source": [
        "## Exercise 18.2\n",
        "\n",
        "Evaluate the similarities of the homeworks of the students\n",
        "\n",
        "tip: https://github.com/orsinium/textdistance\n",
        "\n",
        "tambien puede ser: comparación de matrices TFIDF, como genero el vector de cada estudiante?"
      ]
    },
    {
      "metadata": {
        "id": "kJjHWlx5JEIl",
        "colab_type": "code",
        "colab": {
          "base_uri": "https://localhost:8080/",
          "height": 51
        },
        "outputId": "877f4c89-7564-4cc1-cde3-10f86c9839d4"
      },
      "cell_type": "code",
      "source": [
        "#TFIDF\n",
        "\n",
        "from sklearn.feature_extraction.text import TfidfVectorizer\n",
        "\n",
        "tfidf = TfidfVectorizer().fit_transform(data.All)\n",
        "tfidf"
      ],
      "execution_count": 16,
      "outputs": [
        {
          "output_type": "execute_result",
          "data": {
            "text/plain": [
              "<42x5884 sparse matrix of type '<class 'numpy.float64'>'\n",
              "\twith 23208 stored elements in Compressed Sparse Row format>"
            ]
          },
          "metadata": {
            "tags": []
          },
          "execution_count": 16
        }
      ]
    },
    {
      "metadata": {
        "id": "jllVQgc8jNBi",
        "colab_type": "code",
        "colab": {
          "base_uri": "https://localhost:8080/",
          "height": 170
        },
        "outputId": "60fc5ac8-89c9-4770-f904-2e7b9a92b6ab"
      },
      "cell_type": "code",
      "source": [
        "# Using cosine similarity two compare each text\n",
        "\n",
        "#from sklearn.metrics.pairwise import cosine_similarity\n",
        "from sklearn.metrics.pairwise import linear_kernel\n",
        "\n",
        "cosine_similarities = linear_kernel(tfidf[0:1], tfidf).flatten()\n",
        "cosine_similarities"
      ],
      "execution_count": 17,
      "outputs": [
        {
          "output_type": "execute_result",
          "data": {
            "text/plain": [
              "array([1.        , 0.70830962, 0.68851047, 0.68317347, 0.68736251,\n",
              "       0.672003  , 0.43831825, 0.7202509 , 0.69669847, 0.71639935,\n",
              "       0.67965149, 0.78581615, 0.70874345, 0.68322141, 0.59356439,\n",
              "       0.45028735, 0.6801047 , 0.7323784 , 0.7101024 , 0.677885  ,\n",
              "       0.68911421, 0.72952804, 0.65086206, 0.70825484, 0.65091996,\n",
              "       0.68303555, 0.72352758, 0.65438715, 0.649745  , 0.71335877,\n",
              "       0.6893015 , 0.67287656, 0.69891798, 0.73385457, 0.72822821,\n",
              "       0.70367455, 0.69174604, 0.72938602, 0.24062382, 0.69602913,\n",
              "       0.71587771, 0.71458397])"
            ]
          },
          "metadata": {
            "tags": []
          },
          "execution_count": 17
        }
      ]
    },
    {
      "metadata": {
        "id": "7FTNgQKxJR4-",
        "colab_type": "code",
        "colab": {
          "base_uri": "https://localhost:8080/",
          "height": 34
        },
        "outputId": "ed23d4fb-9946-4df1-c21b-81d4492eab76"
      },
      "cell_type": "code",
      "source": [
        "related_docs_indices = cosine_similarities.argsort()[:-5:-1]\n",
        "related_docs_indices"
      ],
      "execution_count": 18,
      "outputs": [
        {
          "output_type": "execute_result",
          "data": {
            "text/plain": [
              "array([ 0, 11, 33, 17])"
            ]
          },
          "metadata": {
            "tags": []
          },
          "execution_count": 18
        }
      ]
    },
    {
      "metadata": {
        "id": "BcZl46_IJTab",
        "colab_type": "text"
      },
      "cell_type": "markdown",
      "source": [
        "- Los estudiantes 0 , 11, 17 y 33, son quienes tienen un mayor cosine similarity."
      ]
    },
    {
      "metadata": {
        "id": "sFSFzNZwjNBn",
        "colab_type": "text"
      },
      "cell_type": "markdown",
      "source": [
        "## Exercise 18.3\n",
        "\n",
        "Create a classifier to predict the sex of each student.\n",
        "\n",
        "Ej: las mujeres usan cierto tipo de adjetivos, o las mujeres usan signos de admiracion.\n",
        "Crear manualmente dichas variables, que representen la forma de escribir de las mujeres.\n"
      ]
    },
    {
      "metadata": {
        "id": "NTHEJUSnnn6t",
        "colab_type": "code",
        "colab": {
          "base_uri": "https://localhost:8080/",
          "height": 51
        },
        "outputId": "86e041d9-97a6-47ca-f7f3-a5c3ab88ff94"
      },
      "cell_type": "code",
      "source": [
        "# use CountVectorizer to create document-term matrices from X\n",
        "vect = CountVectorizer(ngram_range=(1, 3))\n",
        "X_dtm = vect.fit_transform(data['All'])\n",
        "X_dtm"
      ],
      "execution_count": 8,
      "outputs": [
        {
          "output_type": "execute_result",
          "data": {
            "text/plain": [
              "<42x79685 sparse matrix of type '<class 'numpy.int64'>'\n",
              "\twith 132780 stored elements in Compressed Sparse Row format>"
            ]
          },
          "metadata": {
            "tags": []
          },
          "execution_count": 8
        }
      ]
    },
    {
      "metadata": {
        "id": "ozgscRG5nyDh",
        "colab_type": "code",
        "colab": {
          "base_uri": "https://localhost:8080/",
          "height": 111
        },
        "outputId": "87e28fee-ccd5-4051-89c8-ff9f729f7f07"
      },
      "cell_type": "code",
      "source": [
        "features = data.drop(['Sexo','T1','T2','T3','T4','T5','T6','All'],1)\n",
        "features.head(2)"
      ],
      "execution_count": 9,
      "outputs": [
        {
          "output_type": "execute_result",
          "data": {
            "text/html": [
              "<div>\n",
              "<style scoped>\n",
              "    .dataframe tbody tr th:only-of-type {\n",
              "        vertical-align: middle;\n",
              "    }\n",
              "\n",
              "    .dataframe tbody tr th {\n",
              "        vertical-align: top;\n",
              "    }\n",
              "\n",
              "    .dataframe thead th {\n",
              "        text-align: right;\n",
              "    }\n",
              "</style>\n",
              "<table border=\"1\" class=\"dataframe\">\n",
              "  <thead>\n",
              "    <tr style=\"text-align: right;\">\n",
              "      <th></th>\n",
              "      <th>wordsT1</th>\n",
              "      <th>wordsT2</th>\n",
              "      <th>wordsT3</th>\n",
              "      <th>wordsT4</th>\n",
              "      <th>wordsT5</th>\n",
              "      <th>wordsT6</th>\n",
              "      <th>wordsTotal</th>\n",
              "      <th>words_mean</th>\n",
              "      <th>stopwords</th>\n",
              "      <th>perc_stopwords</th>\n",
              "    </tr>\n",
              "  </thead>\n",
              "  <tbody>\n",
              "    <tr>\n",
              "      <th>0</th>\n",
              "      <td>354</td>\n",
              "      <td>0</td>\n",
              "      <td>602</td>\n",
              "      <td>0</td>\n",
              "      <td>518</td>\n",
              "      <td>371</td>\n",
              "      <td>1845</td>\n",
              "      <td>461.25</td>\n",
              "      <td>629</td>\n",
              "      <td>0.340921</td>\n",
              "    </tr>\n",
              "    <tr>\n",
              "      <th>1</th>\n",
              "      <td>226</td>\n",
              "      <td>273</td>\n",
              "      <td>0</td>\n",
              "      <td>283</td>\n",
              "      <td>262</td>\n",
              "      <td>276</td>\n",
              "      <td>1320</td>\n",
              "      <td>264.00</td>\n",
              "      <td>549</td>\n",
              "      <td>0.415909</td>\n",
              "    </tr>\n",
              "  </tbody>\n",
              "</table>\n",
              "</div>"
            ],
            "text/plain": [
              "   wordsT1  wordsT2  wordsT3  wordsT4  wordsT5  wordsT6  wordsTotal  \\\n",
              "0      354        0      602        0      518      371        1845   \n",
              "1      226      273        0      283      262      276        1320   \n",
              "\n",
              "   words_mean  stopwords  perc_stopwords  \n",
              "0      461.25        629        0.340921  \n",
              "1      264.00        549        0.415909  "
            ]
          },
          "metadata": {
            "tags": []
          },
          "execution_count": 9
        }
      ]
    },
    {
      "metadata": {
        "id": "qH1YvJESjNBp",
        "colab_type": "code",
        "colab": {
          "base_uri": "https://localhost:8080/",
          "height": 34
        },
        "outputId": "1eda687c-560e-43da-cdc7-5c26fb7adcf3"
      },
      "cell_type": "code",
      "source": [
        "y = data.Sexo\n",
        "X = hstack((X_dtm,features.to_sparse().astype(float)))\n",
        "\n",
        "X.shape"
      ],
      "execution_count": 10,
      "outputs": [
        {
          "output_type": "execute_result",
          "data": {
            "text/plain": [
              "(42, 79695)"
            ]
          },
          "metadata": {
            "tags": []
          },
          "execution_count": 10
        }
      ]
    },
    {
      "metadata": {
        "id": "0vOcYWu-o__T",
        "colab_type": "code",
        "colab": {}
      },
      "cell_type": "code",
      "source": [
        "X_train, X_test, y_train, y_test = train_test_split(X, y, test_size=0.3, random_state=42)"
      ],
      "execution_count": 0,
      "outputs": []
    },
    {
      "metadata": {
        "id": "QPZeHK5RjNBv",
        "colab_type": "code",
        "colab": {
          "base_uri": "https://localhost:8080/",
          "height": 125
        },
        "outputId": "27204e56-f493-4198-92dc-bacdf54158bb"
      },
      "cell_type": "code",
      "source": [
        "clf= RandomForestClassifier()\n",
        "clf.fit(X_train,y_train)\n",
        "y_pred=clf.predict(X_test)\n",
        "y_pred"
      ],
      "execution_count": 12,
      "outputs": [
        {
          "output_type": "stream",
          "text": [
            "/usr/local/lib/python3.6/dist-packages/sklearn/ensemble/forest.py:246: FutureWarning: The default value of n_estimators will change from 10 in version 0.20 to 100 in 0.22.\n",
            "  \"10 in version 0.20 to 100 in 0.22.\", FutureWarning)\n"
          ],
          "name": "stderr"
        },
        {
          "output_type": "execute_result",
          "data": {
            "text/plain": [
              "array(['H', 'H', 'H', 'H', 'H', 'H', 'H', 'H', 'H', 'H', 'H', 'H', 'H'],\n",
              "      dtype=object)"
            ]
          },
          "metadata": {
            "tags": []
          },
          "execution_count": 12
        }
      ]
    },
    {
      "metadata": {
        "id": "_IuJ0ocmpxr-",
        "colab_type": "code",
        "colab": {
          "base_uri": "https://localhost:8080/",
          "height": 68
        },
        "outputId": "cb2a7337-be96-4859-e8a8-baf65afe62ab"
      },
      "cell_type": "code",
      "source": [
        "data['Sexo'].value_counts()"
      ],
      "execution_count": 13,
      "outputs": [
        {
          "output_type": "execute_result",
          "data": {
            "text/plain": [
              "H    34\n",
              "M     8\n",
              "Name: Sexo, dtype: int64"
            ]
          },
          "metadata": {
            "tags": []
          },
          "execution_count": 13
        }
      ]
    },
    {
      "metadata": {
        "id": "Q9ffZypYjNB3",
        "colab_type": "code",
        "colab": {
          "base_uri": "https://localhost:8080/",
          "height": 170
        },
        "outputId": "ff45f9ba-2db0-4592-d67a-cef858746b99"
      },
      "cell_type": "code",
      "source": [
        "# Create a classifier to predict the sex of each student\n",
        "cross=cross_val_score(clf, X, y, cv=3)\n",
        "pd.Series(cross).describe()"
      ],
      "execution_count": 14,
      "outputs": [
        {
          "output_type": "execute_result",
          "data": {
            "text/plain": [
              "count    3.000000\n",
              "mean     0.810623\n",
              "std      0.031589\n",
              "min      0.785714\n",
              "25%      0.792857\n",
              "50%      0.800000\n",
              "75%      0.823077\n",
              "max      0.846154\n",
              "dtype: float64"
            ]
          },
          "metadata": {
            "tags": []
          },
          "execution_count": 14
        }
      ]
    }
  ]
}